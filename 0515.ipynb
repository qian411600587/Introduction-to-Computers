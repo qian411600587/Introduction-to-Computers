{
  "nbformat": 4,
  "nbformat_minor": 0,
  "metadata": {
    "colab": {
      "provenance": [],
      "authorship_tag": "ABX9TyNET3gp9MVLEiLnNzHJBEuO",
      "include_colab_link": true
    },
    "kernelspec": {
      "name": "python3",
      "display_name": "Python 3"
    },
    "language_info": {
      "name": "python"
    }
  },
  "cells": [
    {
      "cell_type": "markdown",
      "metadata": {
        "id": "view-in-github",
        "colab_type": "text"
      },
      "source": [
        "<a href=\"https://colab.research.google.com/github/qian411600587/Introduction-to-Computers/blob/main/0515.ipynb\" target=\"_parent\"><img src=\"https://colab.research.google.com/assets/colab-badge.svg\" alt=\"Open In Colab\"/></a>"
      ]
    },
    {
      "cell_type": "code",
      "execution_count": 14,
      "metadata": {
        "colab": {
          "base_uri": "https://localhost:8080/"
        },
        "id": "Gw-uxEGyQ7vo",
        "outputId": "ef243447-52af-4f23-f75b-d60bcc661192"
      },
      "outputs": [
        {
          "output_type": "stream",
          "name": "stdout",
          "text": [
            "今天會下雨嗎3\n",
            "請重新輸入\n"
          ]
        }
      ],
      "source": [
        "rain = str(input('今天會下雨嗎'))\n",
        "if rain == \"Y\" or rain ==\"y\":\n",
        "  print(\"出門記得帶傘\")\n",
        "elif rain == \"N\" or rain ==\"n\":\n",
        "  print(\"不用帶傘\")\n",
        "else :\n",
        "  print(\"請重新輸入\")"
      ]
    },
    {
      "cell_type": "code",
      "source": [
        "month = str(input('請輸入月份'))\n",
        "if month ==\"3\" or month ==\"4\" or month ==\"5\":\n",
        "  print(\"{}月是春天\".format(month))\n",
        "elif month ==\"6\" or month ==\"7\" or month ==\"8\":\n",
        "  print(\"{}月是夏天\".format(month))\n",
        "elif month ==\"12\" or month ==\"1\" or month ==\"2\":\n",
        "  print(\"{}月是冬天\".format(month))\n",
        "else :\n",
        "  print(\"月份不在範圍內\")"
      ],
      "metadata": {
        "colab": {
          "base_uri": "https://localhost:8080/"
        },
        "id": "LUXw0DBPSimH",
        "outputId": "a5ea36aa-72a3-450a-eb51-4ad262320a96"
      },
      "execution_count": 47,
      "outputs": [
        {
          "output_type": "stream",
          "name": "stdout",
          "text": [
            "請輸入月份6\n",
            "6月是夏天\n"
          ]
        }
      ]
    },
    {
      "cell_type": "code",
      "source": [
        "temperature = str(input('請輸入體溫'))\n",
        "if temperature >= \"37.5\":\n",
        " print(\"體溫過高！\")\n",
        "elif temperature <= \"37.4\" and temperature >= \"37\":\n",
        "  print(\"體溫略高！\")\n",
        "elif temperature <= \"36.9\" and temperature >= \"34\":\n",
        "  print(\"體溫正常！\")\n",
        "elif temperature >= \"33.9\":\n",
        "  print(\"體溫異常，請重新測量！\")"
      ],
      "metadata": {
        "colab": {
          "base_uri": "https://localhost:8080/"
        },
        "id": "ZDSD8c5vf2Hn",
        "outputId": "5741672a-a29f-4964-bdeb-ecf2cabab436"
      },
      "execution_count": 49,
      "outputs": [
        {
          "output_type": "stream",
          "name": "stdout",
          "text": [
            "請輸入體溫33.9\n",
            "體溫異常，請重新測量！\n"
          ]
        }
      ]
    },
    {
      "cell_type": "code",
      "source": [
        "成績 = str(input('請輸入成績'))\n",
        "if 成績 >= \"90\":\n",
        "  print(\"A\")\n",
        "elif 成績 <= \"89\" and 成績 >= \"80\":\n",
        "  print(\"B\")\n",
        "elif 成績 <= \"79\" and 成績 >= \"70\":\n",
        "  print(\"C\")\n",
        "elif 成績 <= \"69\" and 成績 >= \"60\":\n",
        "  print(\"D\")\n",
        "elif 成績 <\"60\":\n",
        "  print(\"E\")"
      ],
      "metadata": {
        "colab": {
          "base_uri": "https://localhost:8080/"
        },
        "id": "mhZ0qs7pVlJ1",
        "outputId": "5318682f-e5d9-4ddb-cffd-e0a5d84a5d34"
      },
      "execution_count": 16,
      "outputs": [
        {
          "output_type": "stream",
          "name": "stdout",
          "text": [
            "請輸入成績50\n",
            "E\n"
          ]
        }
      ]
    },
    {
      "cell_type": "code",
      "source": [
        "income = int(input('請輸入使用者收入'))\n",
        "if income >= 2000000:\n",
        "  incometax = income * 0.3\n",
        "elif income >= 1000000:\n",
        "  incometax = 收入 * 0.21\n",
        "elif income >= 600000:\n",
        "  incometax = 收入 * 0.13\n",
        "elif income >= 300000:\n",
        "  incometax = 收入 * 0.06\n",
        "print(\"應付稅額\" + str(incometax))"
      ],
      "metadata": {
        "colab": {
          "base_uri": "https://localhost:8080/"
        },
        "id": "t2xyWyNiY2CD",
        "outputId": "755d2658-d946-4133-83a1-a7670625ec9b"
      },
      "execution_count": 60,
      "outputs": [
        {
          "output_type": "stream",
          "name": "stdout",
          "text": [
            "請輸入使用者收入300000\n",
            "應付稅額18000.0\n"
          ]
        }
      ]
    }
  ]
}